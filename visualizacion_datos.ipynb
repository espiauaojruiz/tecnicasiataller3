{
 "cells": [
  {
   "cell_type": "markdown",
   "metadata": {},
   "source": [
    "#### **DATASET**"
   ]
  },
  {
   "cell_type": "markdown",
   "metadata": {},
   "source": [
    "Antes de usar el dataset realizamos una análisis exploratorio de los datos para verificar si no hay datos faltantes o datos duplicados."
   ]
  },
  {
   "cell_type": "code",
   "execution_count": null,
   "metadata": {},
   "outputs": [],
   "source": [
    "import ollama\n",
    "import numpy as np\n",
    "import pandas as pd\n",
    "import seaborn as sns\n",
    "import plotly.express as px\n",
    "import matplotlib.pyplot as plt\n",
    "\n",
    "from umap import UMAP\n",
    "from ast import literal_eval\n",
    "from sklearn.manifold import TSNE\n",
    "from sklearn.decomposition import PCA\n"
   ]
  },
  {
   "cell_type": "code",
   "execution_count": null,
   "metadata": {},
   "outputs": [],
   "source": [
    "# Carga del dataset\n",
    "df = pd.read_csv(\"data/hotel_reviews.csv\")"
   ]
  },
  {
   "cell_type": "code",
   "execution_count": null,
   "metadata": {},
   "outputs": [],
   "source": [
    "# Visualizamos los primero 5 registros\n",
    "df.head(5)"
   ]
  },
  {
   "cell_type": "code",
   "execution_count": null,
   "metadata": {},
   "outputs": [],
   "source": [
    "# Extraemos en otro dataset las columnas que nos interesan\n",
    "df = df[[\"name\", \"description\", \"rating\"]]\n",
    "\n",
    "# Visualizamos nuevamente los primero 5 registros del dataset con los datos de interes\n",
    "df.head(5)"
   ]
  },
  {
   "cell_type": "code",
   "execution_count": null,
   "metadata": {},
   "outputs": [],
   "source": [
    "# Validamos si tenemos datos faltantes\n",
    "print(df.isna().sum())"
   ]
  },
  {
   "cell_type": "markdown",
   "metadata": {},
   "source": [
    "#### **EMBEDDINGS**"
   ]
  },
  {
   "cell_type": "markdown",
   "metadata": {},
   "source": [
    "Haciendo uso del modelo de embeddings ```nomic-embed-text``` en su versión 1.5 creamos los embeddings"
   ]
  },
  {
   "cell_type": "code",
   "execution_count": null,
   "metadata": {},
   "outputs": [],
   "source": [
    "embedding_model = \"nomic-embed-text:latest\"\n",
    "\n",
    "# Función para obtener el embedding de un texto, la cual tambien reemplaza los saltos de linea del textp por espacios\n",
    "def get_embedding(text, model=embedding_model):\n",
    "  text = text.replace(\"\\n\", \" \")\n",
    "  return ollama.embeddings(model=model, prompt=text)[\"embedding\"]"
   ]
  },
  {
   "cell_type": "code",
   "execution_count": null,
   "metadata": {},
   "outputs": [],
   "source": [
    "# Generación de embeddings en una nueva columna del dataset\n",
    "df['embedding'] = df.description.apply(lambda x: get_embedding(text=x, model=embedding_model))"
   ]
  },
  {
   "cell_type": "code",
   "execution_count": null,
   "metadata": {},
   "outputs": [],
   "source": [
    "# Exportamos el dataset a trabajar a un archivo .csv\n",
    "df.to_csv('data/hotel_reviews_embeddings.csv', index=False)"
   ]
  },
  {
   "cell_type": "markdown",
   "metadata": {},
   "source": [
    "##### **Carga datos procesados**"
   ]
  },
  {
   "cell_type": "code",
   "execution_count": null,
   "metadata": {},
   "outputs": [],
   "source": [
    "# Carga del dataset con los embeddings\n",
    "df = pd.read_csv(\"data/hotel_reviews_embeddings.csv\")\n",
    "\n",
    "# Visualizamos los primeros 5 registros\n",
    "df.head(5)"
   ]
  },
  {
   "cell_type": "code",
   "execution_count": null,
   "metadata": {},
   "outputs": [],
   "source": [
    "# Se genera una matriz con los embeddings, de dimensiones (n_muestras, n_embedding)\n",
    "matrix = np.array(df.embedding.apply(literal_eval).to_list())"
   ]
  },
  {
   "cell_type": "code",
   "execution_count": null,
   "metadata": {},
   "outputs": [],
   "source": [
    "# Visualizamos las dimensiones de nuestra matriz\n",
    "# Tenemos un dataset con 1264 muestras y cada muestra tiene un embedding de 768 dimensiones\n",
    "print(matrix.shape)"
   ]
  },
  {
   "cell_type": "markdown",
   "metadata": {},
   "source": [
    "#### **PCA**"
   ]
  },
  {
   "cell_type": "markdown",
   "metadata": {},
   "source": [
    "##### **2 Componentes**"
   ]
  },
  {
   "cell_type": "code",
   "execution_count": null,
   "metadata": {},
   "outputs": [],
   "source": [
    "# Mediante la tecnica de PCA vamos a pasar de 768 dimensiones a 2 dimensiones para visualizar los datos en un plano en 2 dimensiones\n",
    "# y determinar que tanta información se pierde al reducir las dimensiones\n",
    "pca = PCA(n_components=2)\n",
    "componentes = pca.fit_transform(matrix)\n",
    "\n",
    "# Graficamos los datos en 2 dimensiones\n",
    "fig = px.scatter (\n",
    "  componentes,\n",
    "  x=0, y=1,\n",
    "  color=df.rating.values-1,\n",
    "  color_continuous_scale=px.colors.qualitative.Prism,\n",
    "  title=f\"Varianza total explicada: {pca.explained_variance_ratio_.sum() * 100:.2f}%\",\n",
    "  labels={'0': 'PC 1', '1': 'PC 2'}\n",
    ")\n",
    "fig.show()"
   ]
  },
  {
   "cell_type": "markdown",
   "metadata": {},
   "source": [
    "Con la ```varianza total explicada``` para 2 componentes perdemos mas 90% de información"
   ]
  },
  {
   "cell_type": "markdown",
   "metadata": {},
   "source": [
    "##### **3 Componentes**"
   ]
  },
  {
   "cell_type": "code",
   "execution_count": null,
   "metadata": {},
   "outputs": [],
   "source": [
    "pca = PCA(n_components=3)\n",
    "componentes = pca.fit_transform(matrix)\n",
    "\n",
    "# Graficamos los datos en 3 dimensiones\n",
    "fig = px.scatter_3d (\n",
    "  componentes,\n",
    "  x=0, y=1, z=2,\n",
    "  color=df.rating.values-1,\n",
    "  color_continuous_scale=px.colors.qualitative.Prism,\n",
    "  title=f\"Varianza total explicada: {pca.explained_variance_ratio_.sum() * 100:.2f}%\",\n",
    "  labels={'0': 'PC 1', '1': 'PC 2', '2': 'PC 3'}\n",
    ")\n",
    "fig.show()"
   ]
  },
  {
   "cell_type": "markdown",
   "metadata": {},
   "source": [
    "Con la ```varianza total explicada``` para 3 componentes perdemos mas 85% de información"
   ]
  },
  {
   "cell_type": "markdown",
   "metadata": {},
   "source": [
    "##### **Gráfico de Área**"
   ]
  },
  {
   "cell_type": "markdown",
   "metadata": {},
   "source": [
    "A continuación mediante un gráfico de área trataremos de determinar la cantidad de componentes que nos permitan conservar cierto % de información donde consideremos el punto ideal (cantidad de componentes) de acuerdo a nuestra problemática."
   ]
  },
  {
   "cell_type": "code",
   "execution_count": null,
   "metadata": {},
   "outputs": [],
   "source": [
    "pca = PCA()\n",
    "componentes = pca.fit_transform(matrix)\n",
    "varianza_acumulativa = np.cumsum(pca.explained_variance_ratio_)\n",
    "\n",
    "# Graficamos la varianza acumulativa explicada por cada componente\n",
    "fig = px.area (\n",
    "  componentes,\n",
    "  x=range(1, varianza_acumulativa.shape[0] + 1),\n",
    "  y=varianza_acumulativa,\n",
    "  labels={\"x\": \"Componentes\", \"y\": \"Varianza acumulativa\"},\n",
    "  title=\"Varianza acumultiva por componente\"\n",
    ")\n",
    "fig.show()"
   ]
  },
  {
   "cell_type": "markdown",
   "metadata": {},
   "source": [
    "Podemos deducir que aproximadamente en 190 componentes podemos explicar el 90% de los datos, lo que significa una perdida aproximada del 10% de los datos."
   ]
  },
  {
   "cell_type": "markdown",
   "metadata": {},
   "source": [
    "#### **t-SNE**"
   ]
  },
  {
   "cell_type": "code",
   "execution_count": null,
   "metadata": {},
   "outputs": [],
   "source": [
    "tsne = TSNE(n_components=2, random_state=42)\n",
    "X_tsne = tsne.fit_transform(matrix)\n",
    "\n",
    "print(\"KL Value: \", tsne.kl_divergence_)\n",
    "\n",
    "fig = px.scatter(x=X_tsne[:, 0], y=X_tsne[:, 1], color=df.rating.values-1, color_continuous_scale=px.colors.qualitative.Prism)\n",
    "fig.update_layout(title=\"TSNE visualización de embeddings\", xaxis_title=\"TSNE 1\", yaxis_title=\"TSNE 2\")\n",
    "fig.show()"
   ]
  },
  {
   "cell_type": "markdown",
   "metadata": {},
   "source": [
    "En este primer gráfico con parámetros por defecto no es posible realizar alguna distinción de los grupos de acuerdo al rating"
   ]
  },
  {
   "cell_type": "code",
   "execution_count": null,
   "metadata": {},
   "outputs": [],
   "source": [
    "perplexity = np.arange(5,50, 5)\n",
    "divergence = []\n",
    "\n",
    "for i in perplexity:\n",
    "  tsne = TSNE(n_components=2, init=\"pca\", perplexity=i)\n",
    "  X_tsne = tsne.fit_transform(matrix)\n",
    "  divergence.append(tsne.kl_divergence_)\n",
    "\n",
    "fig = px.line(x=perplexity, y=divergence, markers=True)\n",
    "fig.update_layout(xaxis_title=\"Valores de perplejidad\", yaxis_title=\"Divergencia\")\n",
    "fig.update_traces(line_color=\"blue\", line_width=2)\n",
    "fig.show()"
   ]
  },
  {
   "cell_type": "code",
   "execution_count": null,
   "metadata": {},
   "outputs": [],
   "source": [
    "tsne = TSNE(n_components=2, perplexity=50, random_state=42)\n",
    "X_tsne = tsne.fit_transform(matrix)\n",
    "\n",
    "print(\"KL Value: \", tsne.kl_divergence_)\n",
    "\n",
    "fig = px.scatter(x=X_tsne[:, 0], y=X_tsne[:, 1], color=df.rating.values-1, color_continuous_scale=px.colors.qualitative.Prism)\n",
    "fig.update_layout(title=\"TSNE visualización de embeddings\", xaxis_title=\"TSNE 1\", yaxis_title=\"TSNE 2\")\n",
    "fig.show()"
   ]
  },
  {
   "cell_type": "markdown",
   "metadata": {},
   "source": [
    "#### **UMAP**"
   ]
  },
  {
   "cell_type": "code",
   "execution_count": null,
   "metadata": {},
   "outputs": [],
   "source": [
    "umap = UMAP(n_components=2, random_state=42)\n",
    "X_umap = umap.fit_transform(matrix)\n",
    "\n",
    "fig = px.scatter(x=X_umap[:, 0], y=X_umap[:, 1], color=df.rating.values-1, color_continuous_scale=px.colors.qualitative.Prism)\n",
    "fig.update_layout(\n",
    "    title=\"UMAP visualizacion de embeddings\",\n",
    "    xaxis_title=\"First UMAP\",\n",
    "    yaxis_title=\"Second UMAP\",\n",
    ")\n",
    "fig.show()"
   ]
  },
  {
   "cell_type": "code",
   "execution_count": null,
   "metadata": {},
   "outputs": [],
   "source": [
    "n_neighbors = np.arange(5, 55, 5)\n",
    "\n",
    "for i in n_neighbors:\n",
    "  umap = UMAP(n_components=2, n_neighbors=i, random_state=42)\n",
    "  X_umap = umap.fit_transform(matrix)\n",
    "  \n",
    "  fig = px.scatter(x=X_umap[:, 0], y=X_umap[:, 1], color=df.rating.values-1, color_continuous_scale=px.colors.qualitative.Prism)\n",
    "  fig.update_layout(\n",
    "    title=f\"UMAP visualizacion con vecinos = {i}\",\n",
    "    xaxis_title=\"First UMAP component\",\n",
    "    yaxis_title=\"Second UMAP component\"\n",
    "  )\n",
    "  fig.show()"
   ]
  },
  {
   "cell_type": "code",
   "execution_count": null,
   "metadata": {},
   "outputs": [],
   "source": [
    "min_dist_values = np.arange(0.0, 1.0, 0.1)\n",
    "\n",
    "for min_dist in min_dist_values:\n",
    "  umap = UMAP(n_components=2, min_dist=min_dist, random_state=42)\n",
    "  X_umap = umap.fit_transform(matrix)\n",
    "\n",
    "  fig = px.scatter(x=X_umap[:, 0], y=X_umap[:, 1], color=df.rating.values-1, color_continuous_scale=px.colors.qualitative.Prism)\n",
    "  fig.update_layout(\n",
    "    title=f\"UMAP visualizacion con distancia = {min_dist:.1f}\",\n",
    "    xaxis_title=\"First UMAP component\",\n",
    "    yaxis_title=\"Second UMAP component\"\n",
    "  )\n",
    "  fig.show()"
   ]
  }
 ],
 "metadata": {
  "kernelspec": {
   "display_name": ".venv",
   "language": "python",
   "name": "python3"
  },
  "language_info": {
   "codemirror_mode": {
    "name": "ipython",
    "version": 3
   },
   "file_extension": ".py",
   "mimetype": "text/x-python",
   "name": "python",
   "nbconvert_exporter": "python",
   "pygments_lexer": "ipython3",
   "version": "3.10.0"
  }
 },
 "nbformat": 4,
 "nbformat_minor": 2
}
